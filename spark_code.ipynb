{
 "cells": [
  {
   "cell_type": "code",
   "execution_count": 148,
   "id": "70861aed-e127-42f5-b60d-e5bbaf9b8308",
   "metadata": {},
   "outputs": [],
   "source": [
    "import findspark\n",
    "findspark.init(\"/opt/spark/\")\n",
    "from pyspark.sql import SparkSession, functions as F\n",
    "from pyspark.sql.types import *\n",
    "from pyspark.sql.functions import regexp_replace\n",
    "import configparser\n",
    "import os\n",
    "from pyspark.sql import functions as F\n",
    "from pyspark.sql.functions import month, date_format"
   ]
  },
  {
   "cell_type": "code",
   "execution_count": 149,
   "id": "b427a414-7a5e-4a07-8162-035df944996a",
   "metadata": {},
   "outputs": [],
   "source": [
    "spark = SparkSession.builder \\\n",
    ".appName(\"Odev_2\") \\\n",
    ".config(\"spark.jars.packages\", \"org.postgresql:postgresql:42.7.2\") \\\n",
    ".master(\"local[2]\") \\\n",
    ".getOrCreate()"
   ]
  },
  {
   "cell_type": "code",
   "execution_count": 3,
   "id": "8d0ee64d-b250-4452-98d2-de69821f6ff5",
   "metadata": {},
   "outputs": [
    {
     "name": "stdout",
     "output_type": "stream",
     "text": [
      "openjdk 11.0.22 2024-01-16 LTS\n",
      "OpenJDK Runtime Environment (Red_Hat-11.0.22.0.7-1.el7_9) (build 11.0.22+7-LTS)\n",
      "OpenJDK 64-Bit Server VM (Red_Hat-11.0.22.0.7-1.el7_9) (build 11.0.22+7-LTS, mixed mode, sharing)\n"
     ]
    }
   ],
   "source": [
    "! java --version\n"
   ]
  },
  {
   "cell_type": "raw",
   "id": "bf7b46f8-5b34-4973-ae60-3daadcf58a77",
   "metadata": {},
   "source": [
    "#download dataset\n",
    "\n",
    "! wget -O /opt/examples/datasets/retail_db.zip \\\n",
    "https://github.com/erkansirin78/datasets/raw/master/retail_db.zip\n",
    "! unzip /opt/examples/datasets/retail_db.zip -d /opt/examples/datasets/"
   ]
  },
  {
   "cell_type": "code",
   "execution_count": null,
   "id": "5b8db3cb-10cb-44e8-b098-7e6b6a816abb",
   "metadata": {},
   "outputs": [],
   "source": []
  },
  {
   "cell_type": "code",
   "execution_count": null,
   "id": "0e74a707-98ab-4ea0-a79c-54a84f1651e1",
   "metadata": {},
   "outputs": [],
   "source": [
    "#her bir csv dosyası için dataframe olusturma"
   ]
  },
  {
   "cell_type": "code",
   "execution_count": 4,
   "id": "5218a375-f88a-4298-971b-98aa801b6880",
   "metadata": {},
   "outputs": [],
   "source": [
    "data_dir = '/opt/examples/datasets/retail_db'\n",
    "csv_files = [os.path.join(data_dir, f) for f in os.listdir(data_dir) if f.endswith('.csv')]"
   ]
  },
  {
   "cell_type": "code",
   "execution_count": 192,
   "id": "6dfc1eca-18ee-4df7-a81e-b3358ab1657c",
   "metadata": {},
   "outputs": [],
   "source": [
    "dfs = []\n",
    "for csv_file in csv_files:\n",
    "    df = spark.read.option(\"header\", True).option(\"inferSchema\", True).csv(csv_file)\n",
    "    dfs.append(df)\n",
    "\n",
    "categories_df = dfs[0]\n",
    "customers_df = dfs[1]\n",
    "departments_df = dfs[2]\n",
    "orders_df = dfs[3]\n",
    "order_items_df = dfs[4]\n",
    "products_df = dfs[5]\n"
   ]
  },
  {
   "cell_type": "code",
   "execution_count": 193,
   "id": "aec15473-9823-4cec-a21f-d97e5a2f070b",
   "metadata": {},
   "outputs": [],
   "source": [
    "#createOrReplaceTempView\n",
    "\n",
    "order_items_df.createOrReplaceTempView(\"order_items\")\n",
    "orders_df.createOrReplaceTempView(\"orders\")\n",
    "products_df.createOrReplaceTempView(\"products\")\n",
    "categories_df.createOrReplaceTempView(\"categories\")\n",
    "customers_df.createOrReplaceTempView(\"customers\")\n",
    "departments_df.createOrReplaceTempView(\"departments\")\n"
   ]
  },
  {
   "cell_type": "code",
   "execution_count": 194,
   "id": "07457542-f60c-4534-aacb-106d6f8ef733",
   "metadata": {},
   "outputs": [
    {
     "data": {
      "text/html": [
       "<div>\n",
       "<style scoped>\n",
       "    .dataframe tbody tr th:only-of-type {\n",
       "        vertical-align: middle;\n",
       "    }\n",
       "\n",
       "    .dataframe tbody tr th {\n",
       "        vertical-align: top;\n",
       "    }\n",
       "\n",
       "    .dataframe thead th {\n",
       "        text-align: right;\n",
       "    }\n",
       "</style>\n",
       "<table border=\"1\" class=\"dataframe\">\n",
       "  <thead>\n",
       "    <tr style=\"text-align: right;\">\n",
       "      <th></th>\n",
       "      <th>distinct_orderItemOrderId_count</th>\n",
       "    </tr>\n",
       "  </thead>\n",
       "  <tbody>\n",
       "    <tr>\n",
       "      <th>0</th>\n",
       "      <td>57431</td>\n",
       "    </tr>\n",
       "  </tbody>\n",
       "</table>\n",
       "</div>"
      ],
      "text/plain": [
       "   distinct_orderItemOrderId_count\n",
       "0                            57431"
      ]
     },
     "execution_count": 194,
     "metadata": {},
     "output_type": "execute_result"
    }
   ],
   "source": [
    "### 1. How many distinct `orderItemOrderId` in `order_items`\n",
    "\n",
    "#1. `Order_ıtems' içinde kaç farklı `orderItemOrderId` var\n",
    "\n",
    "spark.sql(f\"\"\"\n",
    "\n",
    "SELECT COUNT(DISTINCT orderItemOrderId) AS distinct_orderItemOrderId_count\n",
    "FROM order_items;\n",
    "\n",
    "\"\"\").toPandas()"
   ]
  },
  {
   "cell_type": "code",
   "execution_count": 9,
   "id": "4ac17ec1-ea43-4f13-b152-4cdc83803ab7",
   "metadata": {},
   "outputs": [
    {
     "data": {
      "text/html": [
       "<div>\n",
       "<style scoped>\n",
       "    .dataframe tbody tr th:only-of-type {\n",
       "        vertical-align: middle;\n",
       "    }\n",
       "\n",
       "    .dataframe tbody tr th {\n",
       "        vertical-align: top;\n",
       "    }\n",
       "\n",
       "    .dataframe thead th {\n",
       "        text-align: right;\n",
       "    }\n",
       "</style>\n",
       "<table border=\"1\" class=\"dataframe\">\n",
       "  <thead>\n",
       "    <tr style=\"text-align: right;\">\n",
       "      <th></th>\n",
       "      <th>order_items_row_count</th>\n",
       "    </tr>\n",
       "  </thead>\n",
       "  <tbody>\n",
       "    <tr>\n",
       "      <th>0</th>\n",
       "      <td>172198</td>\n",
       "    </tr>\n",
       "  </tbody>\n",
       "</table>\n",
       "</div>"
      ],
      "text/plain": [
       "   order_items_row_count\n",
       "0                 172198"
      ]
     },
     "execution_count": 9,
     "metadata": {},
     "output_type": "execute_result"
    }
   ],
   "source": [
    "### 2. Find the row counts of `orders` and `order_items` tables.\n",
    "\n",
    "### 2. `Siparişler` ve `order_ıtems` tablolarının satır sayılarını bulun.\n",
    "\n",
    "\n",
    "#orders\n",
    "\n",
    "spark.sql(\n",
    "    f\"\"\"\n",
    "    select count(*) AS orders_row_count from orders \n",
    "\n",
    "\n",
    "\n",
    "\"\"\").toPandas()\n",
    "\n",
    "\n",
    "#order_items\n",
    "\n",
    "spark.sql(\n",
    "    f\"\"\"\n",
    "    select count(*) AS order_items_row_count from order_items\n",
    "\n",
    "\n",
    "\n",
    "\"\"\").toPandas()\n",
    "\n",
    "\n",
    "\n",
    "\n",
    "\n"
   ]
  },
  {
   "cell_type": "code",
   "execution_count": null,
   "id": "7d2639c4-ba0a-4252-87d9-9d1520b20444",
   "metadata": {},
   "outputs": [],
   "source": [
    "### 3. Write the most canceled (descending order) products in terms of total sales amount to the local disk in 'parquet' format.\n",
    "\n",
    "\n",
    "### 3. Toplam satış tutarı açısından en çok iptal edilen (azalan sipariş) ürünleri 'parke' formatında yerel diske yazın.\n",
    "\n",
    "closed_products_df=spark.sql(\n",
    "    f\"\"\"\n",
    "\n",
    "    SELECT p.productName, sum(od.orderItemSubTotal) AS total_sales_amount\n",
    "    FROM order_items od\n",
    "    INNER JOIN orders o ON o.orderId = od.orderItemOrderId\n",
    "    INNER JOIN products p ON p.productId = od.orderItemProductId\n",
    "    WHERE o.orderStatus = 'CLOSED'\n",
    "    GROUP BY p.productName\n",
    "    ORDER BY total_sales_amount desc\n",
    "    \n",
    "\n",
    "\n",
    "\n",
    "\n",
    "\"\"\")\n",
    "\n",
    "closed_products_df.write.parquet(\"/opt/examples/datasets/retail_db/closed_products\")\n",
    "\n",
    "\n",
    "\n"
   ]
  },
  {
   "cell_type": "code",
   "execution_count": null,
   "id": "ca12b579-ca0e-4882-ba41-589e590b962b",
   "metadata": {},
   "outputs": [],
   "source": [
    "#parquet dosyasını okuma"
   ]
  },
  {
   "cell_type": "code",
   "execution_count": 37,
   "id": "bd8b6adc-8f74-4eec-97ea-a18a40730428",
   "metadata": {},
   "outputs": [
    {
     "data": {
      "text/html": [
       "<div>\n",
       "<style scoped>\n",
       "    .dataframe tbody tr th:only-of-type {\n",
       "        vertical-align: middle;\n",
       "    }\n",
       "\n",
       "    .dataframe tbody tr th {\n",
       "        vertical-align: top;\n",
       "    }\n",
       "\n",
       "    .dataframe thead th {\n",
       "        text-align: right;\n",
       "    }\n",
       "</style>\n",
       "<table border=\"1\" class=\"dataframe\">\n",
       "  <thead>\n",
       "    <tr style=\"text-align: right;\">\n",
       "      <th></th>\n",
       "      <th>productName</th>\n",
       "      <th>total_sales_amount</th>\n",
       "    </tr>\n",
       "  </thead>\n",
       "  <tbody>\n",
       "    <tr>\n",
       "      <th>0</th>\n",
       "      <td>Field &amp; Stream Sportsman 16 Gun Fire Safe</td>\n",
       "      <td>764361.78</td>\n",
       "    </tr>\n",
       "    <tr>\n",
       "      <th>1</th>\n",
       "      <td>Perfect Fitness Perfect Rip Deck</td>\n",
       "      <td>468041.98</td>\n",
       "    </tr>\n",
       "    <tr>\n",
       "      <th>2</th>\n",
       "      <td>Diamondback Women's Serene Classic Comfort Bi</td>\n",
       "      <td>447870.14</td>\n",
       "    </tr>\n",
       "    <tr>\n",
       "      <th>3</th>\n",
       "      <td>Nike Men's Free 5.0+ Running Shoe</td>\n",
       "      <td>421657.83</td>\n",
       "    </tr>\n",
       "    <tr>\n",
       "      <th>4</th>\n",
       "      <td>Nike Men's Dri-FIT Victory Golf Polo</td>\n",
       "      <td>340400.00</td>\n",
       "    </tr>\n",
       "    <tr>\n",
       "      <th>...</th>\n",
       "      <td>...</td>\n",
       "      <td>...</td>\n",
       "    </tr>\n",
       "    <tr>\n",
       "      <th>94</th>\n",
       "      <td>Nike Men's Fingertrap Max Training Shoe</td>\n",
       "      <td>499.96</td>\n",
       "    </tr>\n",
       "    <tr>\n",
       "      <th>95</th>\n",
       "      <td>GoPro HERO3+ Black Edition Camera</td>\n",
       "      <td>399.99</td>\n",
       "    </tr>\n",
       "    <tr>\n",
       "      <th>96</th>\n",
       "      <td>Nike Men's Kobe IX Elite Low Basketball Shoe</td>\n",
       "      <td>399.98</td>\n",
       "    </tr>\n",
       "    <tr>\n",
       "      <th>97</th>\n",
       "      <td>Stiga Master Series ST3100 Competition Indoor</td>\n",
       "      <td>329.99</td>\n",
       "    </tr>\n",
       "    <tr>\n",
       "      <th>98</th>\n",
       "      <td>Diamondback Girls' Clarity 24 Hybrid Bike 201</td>\n",
       "      <td>299.99</td>\n",
       "    </tr>\n",
       "  </tbody>\n",
       "</table>\n",
       "<p>99 rows × 2 columns</p>\n",
       "</div>"
      ],
      "text/plain": [
       "                                      productName  total_sales_amount\n",
       "0       Field & Stream Sportsman 16 Gun Fire Safe           764361.78\n",
       "1                Perfect Fitness Perfect Rip Deck           468041.98\n",
       "2   Diamondback Women's Serene Classic Comfort Bi           447870.14\n",
       "3               Nike Men's Free 5.0+ Running Shoe           421657.83\n",
       "4            Nike Men's Dri-FIT Victory Golf Polo           340400.00\n",
       "..                                            ...                 ...\n",
       "94        Nike Men's Fingertrap Max Training Shoe              499.96\n",
       "95              GoPro HERO3+ Black Edition Camera              399.99\n",
       "96   Nike Men's Kobe IX Elite Low Basketball Shoe              399.98\n",
       "97  Stiga Master Series ST3100 Competition Indoor              329.99\n",
       "98  Diamondback Girls' Clarity 24 Hybrid Bike 201              299.99\n",
       "\n",
       "[99 rows x 2 columns]"
      ]
     },
     "execution_count": 37,
     "metadata": {},
     "output_type": "execute_result"
    }
   ],
   "source": [
    "df_parquet = spark.read.parquet(\"/opt/examples/datasets/retail_db/closed_products\")\n",
    "df_parquet.toPandas()"
   ]
  },
  {
   "cell_type": "code",
   "execution_count": null,
   "id": "4da931ae-57fe-40d4-a838-9755b18ea805",
   "metadata": {},
   "outputs": [],
   "source": [
    "### 4. Write the most canceled (descending order) categories in terms of total sales amount to the local disk in 'parquet' format.\n",
    "\n",
    "### 4. Toplam satış tutarı açısından en çok iptal edilen (azalan sipariş) kategorileri 'parke' formatında yerel diske yazın.\n",
    "\n",
    "closed_categoires_df=spark.sql(\n",
    "    f\"\"\"\n",
    "\n",
    "    SELECT c.categoryName,sum(od.orderItemSubTotal) AS total_sales_amount\n",
    "    FROM order_items od\n",
    "    INNER JOIN orders o ON o.orderId = od.orderItemOrderId\n",
    "    INNER JOIN products p ON p.productId = od.orderItemProductId\n",
    "    inner join categories c on c.categoryId=p.productCategoryId\n",
    "    WHERE o.orderStatus = 'CLOSED'\n",
    "    GROUP BY c.categoryName\n",
    "    ORDER BY total_sales_amount desc\n",
    "    \n",
    "\n",
    "\n",
    "\n",
    "\n",
    "\"\"\")\n",
    "    \n",
    "closed_categoires_df.write.parquet(\"/opt/examples/datasets/retail_db/closed_categories\")"
   ]
  },
  {
   "cell_type": "code",
   "execution_count": 12,
   "id": "6b2a0e2b-206c-433f-b161-239dd94f046e",
   "metadata": {},
   "outputs": [
    {
     "data": {
      "text/html": [
       "<div>\n",
       "<style scoped>\n",
       "    .dataframe tbody tr th:only-of-type {\n",
       "        vertical-align: middle;\n",
       "    }\n",
       "\n",
       "    .dataframe tbody tr th {\n",
       "        vertical-align: top;\n",
       "    }\n",
       "\n",
       "    .dataframe thead th {\n",
       "        text-align: right;\n",
       "    }\n",
       "</style>\n",
       "<table border=\"1\" class=\"dataframe\">\n",
       "  <thead>\n",
       "    <tr style=\"text-align: right;\">\n",
       "      <th></th>\n",
       "      <th>categoryName</th>\n",
       "      <th>total_sales_amount</th>\n",
       "    </tr>\n",
       "  </thead>\n",
       "  <tbody>\n",
       "    <tr>\n",
       "      <th>0</th>\n",
       "      <td>Fishing</td>\n",
       "      <td>764361.78</td>\n",
       "    </tr>\n",
       "    <tr>\n",
       "      <th>1</th>\n",
       "      <td>Cleats</td>\n",
       "      <td>468641.96</td>\n",
       "    </tr>\n",
       "    <tr>\n",
       "      <th>2</th>\n",
       "      <td>Camping &amp; Hiking</td>\n",
       "      <td>447870.14</td>\n",
       "    </tr>\n",
       "    <tr>\n",
       "      <th>3</th>\n",
       "      <td>Cardio Equipment</td>\n",
       "      <td>424327.83</td>\n",
       "    </tr>\n",
       "    <tr>\n",
       "      <th>4</th>\n",
       "      <td>Water Sports</td>\n",
       "      <td>341032.97</td>\n",
       "    </tr>\n",
       "    <tr>\n",
       "      <th>5</th>\n",
       "      <td>Women's Apparel</td>\n",
       "      <td>340400.00</td>\n",
       "    </tr>\n",
       "    <tr>\n",
       "      <th>6</th>\n",
       "      <td>Men's Footwear</td>\n",
       "      <td>321075.30</td>\n",
       "    </tr>\n",
       "    <tr>\n",
       "      <th>7</th>\n",
       "      <td>Indoor/Outdoor Games</td>\n",
       "      <td>309676.08</td>\n",
       "    </tr>\n",
       "    <tr>\n",
       "      <th>8</th>\n",
       "      <td>Shop By Sport</td>\n",
       "      <td>137176.55</td>\n",
       "    </tr>\n",
       "    <tr>\n",
       "      <th>9</th>\n",
       "      <td>Electronics</td>\n",
       "      <td>38074.38</td>\n",
       "    </tr>\n",
       "    <tr>\n",
       "      <th>10</th>\n",
       "      <td>Girls' Apparel</td>\n",
       "      <td>16854.05</td>\n",
       "    </tr>\n",
       "    <tr>\n",
       "      <th>11</th>\n",
       "      <td>Accessories</td>\n",
       "      <td>14119.35</td>\n",
       "    </tr>\n",
       "    <tr>\n",
       "      <th>12</th>\n",
       "      <td>Baseball &amp; Softball</td>\n",
       "      <td>11902.77</td>\n",
       "    </tr>\n",
       "    <tr>\n",
       "      <th>13</th>\n",
       "      <td>Golf Gloves</td>\n",
       "      <td>11022.27</td>\n",
       "    </tr>\n",
       "    <tr>\n",
       "      <th>14</th>\n",
       "      <td>Kids' Golf Clubs</td>\n",
       "      <td>10830.39</td>\n",
       "    </tr>\n",
       "    <tr>\n",
       "      <th>15</th>\n",
       "      <td>Golf Shoes</td>\n",
       "      <td>9204.00</td>\n",
       "    </tr>\n",
       "    <tr>\n",
       "      <th>16</th>\n",
       "      <td>Golf Balls</td>\n",
       "      <td>9121.77</td>\n",
       "    </tr>\n",
       "    <tr>\n",
       "      <th>17</th>\n",
       "      <td>Boxing &amp; MMA</td>\n",
       "      <td>7827.42</td>\n",
       "    </tr>\n",
       "    <tr>\n",
       "      <th>18</th>\n",
       "      <td>Trade-In</td>\n",
       "      <td>6047.31</td>\n",
       "    </tr>\n",
       "    <tr>\n",
       "      <th>19</th>\n",
       "      <td>Men's Golf Clubs</td>\n",
       "      <td>5744.49</td>\n",
       "    </tr>\n",
       "    <tr>\n",
       "      <th>20</th>\n",
       "      <td>Women's Golf Clubs</td>\n",
       "      <td>5369.49</td>\n",
       "    </tr>\n",
       "    <tr>\n",
       "      <th>21</th>\n",
       "      <td>Hunting &amp; Shooting</td>\n",
       "      <td>5185.90</td>\n",
       "    </tr>\n",
       "    <tr>\n",
       "      <th>22</th>\n",
       "      <td>Tennis &amp; Racquet</td>\n",
       "      <td>5173.85</td>\n",
       "    </tr>\n",
       "    <tr>\n",
       "      <th>23</th>\n",
       "      <td>Hockey</td>\n",
       "      <td>4661.99</td>\n",
       "    </tr>\n",
       "    <tr>\n",
       "      <th>24</th>\n",
       "      <td>Golf Apparel</td>\n",
       "      <td>4098.93</td>\n",
       "    </tr>\n",
       "    <tr>\n",
       "      <th>25</th>\n",
       "      <td>Lacrosse</td>\n",
       "      <td>3448.95</td>\n",
       "    </tr>\n",
       "    <tr>\n",
       "      <th>26</th>\n",
       "      <td>Strength Training</td>\n",
       "      <td>3344.98</td>\n",
       "    </tr>\n",
       "    <tr>\n",
       "      <th>27</th>\n",
       "      <td>Fitness Accessories</td>\n",
       "      <td>3124.43</td>\n",
       "    </tr>\n",
       "    <tr>\n",
       "      <th>28</th>\n",
       "      <td>As Seen on  TV!</td>\n",
       "      <td>2499.75</td>\n",
       "    </tr>\n",
       "    <tr>\n",
       "      <th>29</th>\n",
       "      <td>Soccer</td>\n",
       "      <td>1779.80</td>\n",
       "    </tr>\n",
       "    <tr>\n",
       "      <th>30</th>\n",
       "      <td>Basketball</td>\n",
       "      <td>1199.96</td>\n",
       "    </tr>\n",
       "    <tr>\n",
       "      <th>31</th>\n",
       "      <td>Golf Bags &amp; Carts</td>\n",
       "      <td>849.95</td>\n",
       "    </tr>\n",
       "  </tbody>\n",
       "</table>\n",
       "</div>"
      ],
      "text/plain": [
       "            categoryName  total_sales_amount\n",
       "0                Fishing           764361.78\n",
       "1                 Cleats           468641.96\n",
       "2       Camping & Hiking           447870.14\n",
       "3       Cardio Equipment           424327.83\n",
       "4           Water Sports           341032.97\n",
       "5        Women's Apparel           340400.00\n",
       "6         Men's Footwear           321075.30\n",
       "7   Indoor/Outdoor Games           309676.08\n",
       "8          Shop By Sport           137176.55\n",
       "9            Electronics            38074.38\n",
       "10        Girls' Apparel            16854.05\n",
       "11           Accessories            14119.35\n",
       "12   Baseball & Softball            11902.77\n",
       "13           Golf Gloves            11022.27\n",
       "14      Kids' Golf Clubs            10830.39\n",
       "15            Golf Shoes             9204.00\n",
       "16            Golf Balls             9121.77\n",
       "17          Boxing & MMA             7827.42\n",
       "18              Trade-In             6047.31\n",
       "19      Men's Golf Clubs             5744.49\n",
       "20    Women's Golf Clubs             5369.49\n",
       "21    Hunting & Shooting             5185.90\n",
       "22      Tennis & Racquet             5173.85\n",
       "23                Hockey             4661.99\n",
       "24          Golf Apparel             4098.93\n",
       "25              Lacrosse             3448.95\n",
       "26     Strength Training             3344.98\n",
       "27   Fitness Accessories             3124.43\n",
       "28       As Seen on  TV!             2499.75\n",
       "29                Soccer             1779.80\n",
       "30            Basketball             1199.96\n",
       "31     Golf Bags & Carts              849.95"
      ]
     },
     "execution_count": 12,
     "metadata": {},
     "output_type": "execute_result"
    }
   ],
   "source": [
    "df_parquet_categories=spark.read.parquet(\"/opt/examples/datasets/retail_db/closed_categories\")\n",
    "df_parquet_categories.toPandas()"
   ]
  },
  {
   "cell_type": "code",
   "execution_count": 27,
   "id": "5f38df17-b760-4d5a-a0cf-ecffa60c5ae7",
   "metadata": {},
   "outputs": [
    {
     "data": {
      "text/plain": [
       "[('orderId', 'int'),\n",
       " ('orderDate', 'timestamp'),\n",
       " ('orderCustomerId', 'int'),\n",
       " ('orderStatus', 'string')]"
      ]
     },
     "execution_count": 27,
     "metadata": {},
     "output_type": "execute_result"
    }
   ],
   "source": [
    "### 5. In which month of which year (Turkish) was the highest total sales?\n",
    "\n",
    "### 5. Toplam satışlar hangi yılın hangi ayında (Türkçe) en yüksekti?\n",
    "orders_df.dtypes\n"
   ]
  },
  {
   "cell_type": "code",
   "execution_count": 28,
   "id": "48041dd4-a507-4fc8-b9f2-fd349185c698",
   "metadata": {
    "scrolled": true
   },
   "outputs": [
    {
     "name": "stdout",
     "output_type": "stream",
     "text": [
      "+-------+-------------------+---------------+---------------+---------------+\n",
      "|orderId|          orderDate|orderCustomerId|    orderStatus|orderDate_month|\n",
      "+-------+-------------------+---------------+---------------+---------------+\n",
      "|      1|2013-07-25 00:00:00|          11599|         CLOSED|              7|\n",
      "|      2|2013-07-25 00:00:00|            256|PENDING_PAYMENT|              7|\n",
      "|      3|2013-07-25 00:00:00|          12111|       COMPLETE|              7|\n",
      "|      4|2013-07-25 00:00:00|           8827|         CLOSED|              7|\n",
      "|      5|2013-07-25 00:00:00|          11318|       COMPLETE|              7|\n",
      "|      6|2013-07-25 00:00:00|           7130|       COMPLETE|              7|\n",
      "|      7|2013-07-25 00:00:00|           4530|       COMPLETE|              7|\n",
      "|      8|2013-07-25 00:00:00|           2911|     PROCESSING|              7|\n",
      "|      9|2013-07-25 00:00:00|           5657|PENDING_PAYMENT|              7|\n",
      "|     10|2013-07-25 00:00:00|           5648|PENDING_PAYMENT|              7|\n",
      "|     11|2013-07-25 00:00:00|            918| PAYMENT_REVIEW|              7|\n",
      "|     12|2013-07-25 00:00:00|           1837|         CLOSED|              7|\n",
      "|     13|2013-07-25 00:00:00|           9149|PENDING_PAYMENT|              7|\n",
      "|     14|2013-07-25 00:00:00|           9842|     PROCESSING|              7|\n",
      "|     15|2013-07-25 00:00:00|           2568|       COMPLETE|              7|\n",
      "|     16|2013-07-25 00:00:00|           7276|PENDING_PAYMENT|              7|\n",
      "|     17|2013-07-25 00:00:00|           2667|       COMPLETE|              7|\n",
      "|     18|2013-07-25 00:00:00|           1205|         CLOSED|              7|\n",
      "|     19|2013-07-25 00:00:00|           9488|PENDING_PAYMENT|              7|\n",
      "|     20|2013-07-25 00:00:00|           9198|     PROCESSING|              7|\n",
      "+-------+-------------------+---------------+---------------+---------------+\n",
      "only showing top 20 rows\n",
      "\n"
     ]
    }
   ],
   "source": [
    "\n",
    "#orderDate sutunudaki degerlere göre ayın sayısını yeni bir sutunda gosterme\n",
    "\n",
    "orders_df_2 = orders_df.withColumn(\"orderDate_month\", \n",
    "                     F.month(F.col(\"orderDate\")))\n",
    "\n",
    "orders_df_2.show()"
   ]
  },
  {
   "cell_type": "code",
   "execution_count": 34,
   "id": "51565e68-994e-48d9-a448-5745fa265c6a",
   "metadata": {},
   "outputs": [],
   "source": [
    "\n",
    "#türkçe ay adları için fonksiyon:\n",
    "\n",
    "def month_tr(month_num):\n",
    "    \n",
    "    months_dict={\n",
    "        1:\"Ocak\",\n",
    "        2:\"Şubat\",\n",
    "        3:\"Mart\",\n",
    "        4:\"Nisan\",\n",
    "        5:\"Mayıs\",\n",
    "        6:\"Haziran\",\n",
    "        7:\"Temmuz\",\n",
    "        8:\"Ağustos\",\n",
    "        9:\"Eylül\",\n",
    "        10:\"Ekim\",\n",
    "        11:\"Kasım\",\n",
    "        12:\"Aralık\"\n",
    "    }\n",
    "    \n",
    "    return months_dict[month_num]\n",
    "\n",
    "#fonksiyonu udf kaydetme\n",
    "month_tr_udf=F.udf(month_tr,StringType())\n",
    "    "
   ]
  },
  {
   "cell_type": "code",
   "execution_count": 35,
   "id": "afcaa242-ad49-4dc0-ab3a-73b7800c9306",
   "metadata": {},
   "outputs": [],
   "source": [
    "#türkçe ay adları ıcın fonksiyonu calıstırarak yenı bır sutun olusturma\n",
    "\n",
    "\n",
    "orders_df_2=orders_df_2.withColumn(\"orderDate_Month_Name\",\n",
    "                              month_tr_udf(F.col(\"orderDate_Month\")))\n",
    "\n",
    "    "
   ]
  },
  {
   "cell_type": "code",
   "execution_count": 36,
   "id": "731fc88d-8529-497b-944f-920af0470cb9",
   "metadata": {},
   "outputs": [
    {
     "name": "stdout",
     "output_type": "stream",
     "text": [
      "+-------+-------------------+---------------+---------------+---------------+--------------------+\n",
      "|orderId|          orderDate|orderCustomerId|    orderStatus|orderDate_month|orderDate_Month_Name|\n",
      "+-------+-------------------+---------------+---------------+---------------+--------------------+\n",
      "|      1|2013-07-25 00:00:00|          11599|         CLOSED|              7|              Temmuz|\n",
      "|      2|2013-07-25 00:00:00|            256|PENDING_PAYMENT|              7|              Temmuz|\n",
      "|      3|2013-07-25 00:00:00|          12111|       COMPLETE|              7|              Temmuz|\n",
      "|      4|2013-07-25 00:00:00|           8827|         CLOSED|              7|              Temmuz|\n",
      "|      5|2013-07-25 00:00:00|          11318|       COMPLETE|              7|              Temmuz|\n",
      "|      6|2013-07-25 00:00:00|           7130|       COMPLETE|              7|              Temmuz|\n",
      "|      7|2013-07-25 00:00:00|           4530|       COMPLETE|              7|              Temmuz|\n",
      "|      8|2013-07-25 00:00:00|           2911|     PROCESSING|              7|              Temmuz|\n",
      "|      9|2013-07-25 00:00:00|           5657|PENDING_PAYMENT|              7|              Temmuz|\n",
      "|     10|2013-07-25 00:00:00|           5648|PENDING_PAYMENT|              7|              Temmuz|\n",
      "|     11|2013-07-25 00:00:00|            918| PAYMENT_REVIEW|              7|              Temmuz|\n",
      "|     12|2013-07-25 00:00:00|           1837|         CLOSED|              7|              Temmuz|\n",
      "|     13|2013-07-25 00:00:00|           9149|PENDING_PAYMENT|              7|              Temmuz|\n",
      "|     14|2013-07-25 00:00:00|           9842|     PROCESSING|              7|              Temmuz|\n",
      "|     15|2013-07-25 00:00:00|           2568|       COMPLETE|              7|              Temmuz|\n",
      "|     16|2013-07-25 00:00:00|           7276|PENDING_PAYMENT|              7|              Temmuz|\n",
      "|     17|2013-07-25 00:00:00|           2667|       COMPLETE|              7|              Temmuz|\n",
      "|     18|2013-07-25 00:00:00|           1205|         CLOSED|              7|              Temmuz|\n",
      "|     19|2013-07-25 00:00:00|           9488|PENDING_PAYMENT|              7|              Temmuz|\n",
      "|     20|2013-07-25 00:00:00|           9198|     PROCESSING|              7|              Temmuz|\n",
      "+-------+-------------------+---------------+---------------+---------------+--------------------+\n",
      "only showing top 20 rows\n",
      "\n"
     ]
    }
   ],
   "source": [
    "orders_df_2.show()"
   ]
  },
  {
   "cell_type": "code",
   "execution_count": 42,
   "id": "11bd63ec-230d-4110-af59-4173b9e5cf73",
   "metadata": {},
   "outputs": [],
   "source": [
    "\n",
    "orders_df_2.createOrReplaceTempView(\"orders_2\")"
   ]
  },
  {
   "cell_type": "code",
   "execution_count": 74,
   "id": "583543b3-6448-4416-b4cc-adfec7e886e6",
   "metadata": {},
   "outputs": [
    {
     "data": {
      "text/html": [
       "<div>\n",
       "<style scoped>\n",
       "    .dataframe tbody tr th:only-of-type {\n",
       "        vertical-align: middle;\n",
       "    }\n",
       "\n",
       "    .dataframe tbody tr th {\n",
       "        vertical-align: top;\n",
       "    }\n",
       "\n",
       "    .dataframe thead th {\n",
       "        text-align: right;\n",
       "    }\n",
       "</style>\n",
       "<table border=\"1\" class=\"dataframe\">\n",
       "  <thead>\n",
       "    <tr style=\"text-align: right;\">\n",
       "      <th></th>\n",
       "      <th>Year</th>\n",
       "      <th>Month</th>\n",
       "      <th>TotalSales</th>\n",
       "    </tr>\n",
       "  </thead>\n",
       "  <tbody>\n",
       "    <tr>\n",
       "      <th>0</th>\n",
       "      <td>2013</td>\n",
       "      <td>Kasım</td>\n",
       "      <td>3168656.03</td>\n",
       "    </tr>\n",
       "    <tr>\n",
       "      <th>1</th>\n",
       "      <td>2014</td>\n",
       "      <td>Ocak</td>\n",
       "      <td>2924447.01</td>\n",
       "    </tr>\n",
       "  </tbody>\n",
       "</table>\n",
       "</div>"
      ],
      "text/plain": [
       "   Year  Month  TotalSales\n",
       "0  2013  Kasım  3168656.03\n",
       "1  2014   Ocak  2924447.01"
      ]
     },
     "execution_count": 74,
     "metadata": {},
     "output_type": "execute_result"
    }
   ],
   "source": [
    "\n",
    "#sql sorgusu\n",
    "\n",
    "spark.sql(\n",
    "    f\"\"\"\n",
    "    \n",
    "    SELECT Year,\n",
    "           Month,\n",
    "           TotalSales\n",
    "    FROM (\n",
    "        SELECT YEAR(orderDate) AS Year,\n",
    "               orderDate_Month_Name AS Month,\n",
    "               SUM(orderItemSubTotal) AS TotalSales,\n",
    "               ROW_NUMBER() OVER(PARTITION BY YEAR(orderDate) ORDER BY SUM(orderItemSubTotal) DESC) AS rn\n",
    "        FROM orders_2 o \n",
    "        INNER JOIN order_items od ON od.orderItemOrderId = o.orderId\n",
    "        WHERE YEAR(orderDate) IN (2013, 2014)\n",
    "        GROUP BY YEAR(orderDate), orderDate_Month_Name\n",
    "    ) tmp\n",
    "    WHERE rn = 1\n",
    "  \n",
    "\n",
    "\"\"\").toPandas()\n",
    "    "
   ]
  },
  {
   "cell_type": "code",
   "execution_count": null,
   "id": "5bea70c3-244b-49de-8999-6696c1925bc4",
   "metadata": {},
   "outputs": [],
   "source": []
  },
  {
   "cell_type": "code",
   "execution_count": 104,
   "id": "f09a6519-df53-442f-99c9-857d7e8b1297",
   "metadata": {},
   "outputs": [
    {
     "name": "stdout",
     "output_type": "stream",
     "text": [
      "+-------+-------------------+---------------+---------------+--------------------+-------------------+\n",
      "|orderId|          orderDate|orderCustomerId|    orderStatus|orderDate_weekofyear|orderDate_dayofweek|\n",
      "+-------+-------------------+---------------+---------------+--------------------+-------------------+\n",
      "|      1|2013-07-25 00:00:00|          11599|         CLOSED|                  30|                  5|\n",
      "|      2|2013-07-25 00:00:00|            256|PENDING_PAYMENT|                  30|                  5|\n",
      "|      3|2013-07-25 00:00:00|          12111|       COMPLETE|                  30|                  5|\n",
      "|      4|2013-07-25 00:00:00|           8827|         CLOSED|                  30|                  5|\n",
      "|      5|2013-07-25 00:00:00|          11318|       COMPLETE|                  30|                  5|\n",
      "|      6|2013-07-25 00:00:00|           7130|       COMPLETE|                  30|                  5|\n",
      "|      7|2013-07-25 00:00:00|           4530|       COMPLETE|                  30|                  5|\n",
      "|      8|2013-07-25 00:00:00|           2911|     PROCESSING|                  30|                  5|\n",
      "|      9|2013-07-25 00:00:00|           5657|PENDING_PAYMENT|                  30|                  5|\n",
      "|     10|2013-07-25 00:00:00|           5648|PENDING_PAYMENT|                  30|                  5|\n",
      "|     11|2013-07-25 00:00:00|            918| PAYMENT_REVIEW|                  30|                  5|\n",
      "|     12|2013-07-25 00:00:00|           1837|         CLOSED|                  30|                  5|\n",
      "|     13|2013-07-25 00:00:00|           9149|PENDING_PAYMENT|                  30|                  5|\n",
      "|     14|2013-07-25 00:00:00|           9842|     PROCESSING|                  30|                  5|\n",
      "|     15|2013-07-25 00:00:00|           2568|       COMPLETE|                  30|                  5|\n",
      "|     16|2013-07-25 00:00:00|           7276|PENDING_PAYMENT|                  30|                  5|\n",
      "|     17|2013-07-25 00:00:00|           2667|       COMPLETE|                  30|                  5|\n",
      "|     18|2013-07-25 00:00:00|           1205|         CLOSED|                  30|                  5|\n",
      "|     19|2013-07-25 00:00:00|           9488|PENDING_PAYMENT|                  30|                  5|\n",
      "|     20|2013-07-25 00:00:00|           9198|     PROCESSING|                  30|                  5|\n",
      "+-------+-------------------+---------------+---------------+--------------------+-------------------+\n",
      "only showing top 20 rows\n",
      "\n"
     ]
    }
   ],
   "source": [
    "### 6. On which day of the week (Turkish) was the highest total sales?\n",
    "### 6. Haftanın hangi günü (Türkçe) en yüksek toplam satış oldu?\n",
    "\n",
    "\n",
    "\n",
    "#orderDate sutunudaki degerlere göre haftayı yeni bir sutunda gosterme\n",
    "\n",
    "orders_df_3 = orders_df.withColumn(\"orderDate_weekofyear\", \n",
    "                     F.weekofyear(F.col(\"orderDate\")))\n",
    "\n",
    "\n",
    "#orderDate sutunudaki degerlere göre günü yeni bir satıtrda gösterme\n",
    "orders_df_4 = orders_df_3.withColumn(\"orderDate_dayofweek\", \n",
    "                     F.dayofweek(F.col(\"orderDate\")))\n",
    "\n",
    "orders_df_4.show()\n"
   ]
  },
  {
   "cell_type": "code",
   "execution_count": 112,
   "id": "79cf25c5-999b-4775-9a15-0450d3da0c33",
   "metadata": {},
   "outputs": [
    {
     "name": "stdout",
     "output_type": "stream",
     "text": [
      "+-------+-------------------+---------------+---------------+--------------------+-------------------+-----------+\n",
      "|orderId|          orderDate|orderCustomerId|    orderStatus|orderDate_weekofyear|orderDate_dayofweek|dayname_eng|\n",
      "+-------+-------------------+---------------+---------------+--------------------+-------------------+-----------+\n",
      "|      1|2013-07-25 00:00:00|          11599|         CLOSED|                  30|                  5|        Thu|\n",
      "|      2|2013-07-25 00:00:00|            256|PENDING_PAYMENT|                  30|                  5|        Thu|\n",
      "|      3|2013-07-25 00:00:00|          12111|       COMPLETE|                  30|                  5|        Thu|\n",
      "|      4|2013-07-25 00:00:00|           8827|         CLOSED|                  30|                  5|        Thu|\n",
      "|      5|2013-07-25 00:00:00|          11318|       COMPLETE|                  30|                  5|        Thu|\n",
      "|      6|2013-07-25 00:00:00|           7130|       COMPLETE|                  30|                  5|        Thu|\n",
      "|      7|2013-07-25 00:00:00|           4530|       COMPLETE|                  30|                  5|        Thu|\n",
      "|      8|2013-07-25 00:00:00|           2911|     PROCESSING|                  30|                  5|        Thu|\n",
      "|      9|2013-07-25 00:00:00|           5657|PENDING_PAYMENT|                  30|                  5|        Thu|\n",
      "|     10|2013-07-25 00:00:00|           5648|PENDING_PAYMENT|                  30|                  5|        Thu|\n",
      "|     11|2013-07-25 00:00:00|            918| PAYMENT_REVIEW|                  30|                  5|        Thu|\n",
      "|     12|2013-07-25 00:00:00|           1837|         CLOSED|                  30|                  5|        Thu|\n",
      "|     13|2013-07-25 00:00:00|           9149|PENDING_PAYMENT|                  30|                  5|        Thu|\n",
      "|     14|2013-07-25 00:00:00|           9842|     PROCESSING|                  30|                  5|        Thu|\n",
      "|     15|2013-07-25 00:00:00|           2568|       COMPLETE|                  30|                  5|        Thu|\n",
      "|     16|2013-07-25 00:00:00|           7276|PENDING_PAYMENT|                  30|                  5|        Thu|\n",
      "|     17|2013-07-25 00:00:00|           2667|       COMPLETE|                  30|                  5|        Thu|\n",
      "|     18|2013-07-25 00:00:00|           1205|         CLOSED|                  30|                  5|        Thu|\n",
      "|     19|2013-07-25 00:00:00|           9488|PENDING_PAYMENT|                  30|                  5|        Thu|\n",
      "|     20|2013-07-25 00:00:00|           9198|     PROCESSING|                  30|                  5|        Thu|\n",
      "+-------+-------------------+---------------+---------------+--------------------+-------------------+-----------+\n",
      "only showing top 20 rows\n",
      "\n"
     ]
    }
   ],
   "source": [
    "#dayname(eng)\n",
    "\n",
    "orders_df_5 = orders_df_4.withColumn(\"dayname_eng\",\n",
    "                                     F.date_format(F.col(\"orderDate\"),\"E\"))\n",
    "\n",
    "orders_df_5.show()\n"
   ]
  },
  {
   "cell_type": "code",
   "execution_count": 113,
   "id": "a539ec27-ddea-4237-916c-a6832aa670de",
   "metadata": {},
   "outputs": [],
   "source": [
    "\n",
    "#gün isimlerini türkçe olarak tabloya ekleme\n",
    "\n",
    "def day_tr(day_num):\n",
    "    \n",
    "    day_dict={\n",
    "        1:\"Pazar\",\n",
    "        2:\"Pazartesi\",\n",
    "        3:\"Salı\",\n",
    "        4:\"Çarşamba\",\n",
    "        5:\"Perşembe\",\n",
    "        6:\"Cuma\",\n",
    "        7:\"Cumartesi\",\n",
    "    }\n",
    "    \n",
    "    return day_dict[day_num]\n",
    "\n",
    "#fonksiyonu udf kaydetme\n",
    "day_tr_udf=F.udf(day_tr,StringType())\n",
    "\n"
   ]
  },
  {
   "cell_type": "code",
   "execution_count": 114,
   "id": "d05df168-1f4a-4d9c-b629-586472752a02",
   "metadata": {},
   "outputs": [
    {
     "name": "stdout",
     "output_type": "stream",
     "text": [
      "+-------+-------------------+---------------+---------------+--------------------+-------------------+-----------+----------------+\n",
      "|orderId|          orderDate|orderCustomerId|    orderStatus|orderDate_weekofyear|orderDate_dayofweek|dayname_eng|orderDate_day_tr|\n",
      "+-------+-------------------+---------------+---------------+--------------------+-------------------+-----------+----------------+\n",
      "|      1|2013-07-25 00:00:00|          11599|         CLOSED|                  30|                  5|        Thu|        Perşembe|\n",
      "|      2|2013-07-25 00:00:00|            256|PENDING_PAYMENT|                  30|                  5|        Thu|        Perşembe|\n",
      "|      3|2013-07-25 00:00:00|          12111|       COMPLETE|                  30|                  5|        Thu|        Perşembe|\n",
      "|      4|2013-07-25 00:00:00|           8827|         CLOSED|                  30|                  5|        Thu|        Perşembe|\n",
      "|      5|2013-07-25 00:00:00|          11318|       COMPLETE|                  30|                  5|        Thu|        Perşembe|\n",
      "|      6|2013-07-25 00:00:00|           7130|       COMPLETE|                  30|                  5|        Thu|        Perşembe|\n",
      "|      7|2013-07-25 00:00:00|           4530|       COMPLETE|                  30|                  5|        Thu|        Perşembe|\n",
      "|      8|2013-07-25 00:00:00|           2911|     PROCESSING|                  30|                  5|        Thu|        Perşembe|\n",
      "|      9|2013-07-25 00:00:00|           5657|PENDING_PAYMENT|                  30|                  5|        Thu|        Perşembe|\n",
      "|     10|2013-07-25 00:00:00|           5648|PENDING_PAYMENT|                  30|                  5|        Thu|        Perşembe|\n",
      "|     11|2013-07-25 00:00:00|            918| PAYMENT_REVIEW|                  30|                  5|        Thu|        Perşembe|\n",
      "|     12|2013-07-25 00:00:00|           1837|         CLOSED|                  30|                  5|        Thu|        Perşembe|\n",
      "|     13|2013-07-25 00:00:00|           9149|PENDING_PAYMENT|                  30|                  5|        Thu|        Perşembe|\n",
      "|     14|2013-07-25 00:00:00|           9842|     PROCESSING|                  30|                  5|        Thu|        Perşembe|\n",
      "|     15|2013-07-25 00:00:00|           2568|       COMPLETE|                  30|                  5|        Thu|        Perşembe|\n",
      "|     16|2013-07-25 00:00:00|           7276|PENDING_PAYMENT|                  30|                  5|        Thu|        Perşembe|\n",
      "|     17|2013-07-25 00:00:00|           2667|       COMPLETE|                  30|                  5|        Thu|        Perşembe|\n",
      "|     18|2013-07-25 00:00:00|           1205|         CLOSED|                  30|                  5|        Thu|        Perşembe|\n",
      "|     19|2013-07-25 00:00:00|           9488|PENDING_PAYMENT|                  30|                  5|        Thu|        Perşembe|\n",
      "|     20|2013-07-25 00:00:00|           9198|     PROCESSING|                  30|                  5|        Thu|        Perşembe|\n",
      "+-------+-------------------+---------------+---------------+--------------------+-------------------+-----------+----------------+\n",
      "only showing top 20 rows\n",
      "\n"
     ]
    }
   ],
   "source": [
    "#türkçe gün adları ıcın fonksiyonu calıstırarak yenı bır sutun olusturma\n",
    "\n",
    "\n",
    "orders_df_6=orders_df_5.withColumn(\"orderDate_day_tr\",\n",
    "                              day_tr_udf(F.col(\"orderDate_dayofweek\")))\n",
    "\n",
    "orders_df_6.show()\n"
   ]
  },
  {
   "cell_type": "code",
   "execution_count": 118,
   "id": "fa66e561-1018-451d-9f80-dd4afd17fd03",
   "metadata": {},
   "outputs": [],
   "source": [
    "orders_df_6.createOrReplaceTempView(\"orders_6\")"
   ]
  },
  {
   "cell_type": "code",
   "execution_count": 145,
   "id": "f7b29f0b-8dfe-4711-9165-f243a55fe768",
   "metadata": {},
   "outputs": [
    {
     "data": {
      "text/html": [
       "<div>\n",
       "<style scoped>\n",
       "    .dataframe tbody tr th:only-of-type {\n",
       "        vertical-align: middle;\n",
       "    }\n",
       "\n",
       "    .dataframe tbody tr th {\n",
       "        vertical-align: top;\n",
       "    }\n",
       "\n",
       "    .dataframe thead th {\n",
       "        text-align: right;\n",
       "    }\n",
       "</style>\n",
       "<table border=\"1\" class=\"dataframe\">\n",
       "  <thead>\n",
       "    <tr style=\"text-align: right;\">\n",
       "      <th></th>\n",
       "      <th>Year</th>\n",
       "      <th>Week</th>\n",
       "      <th>Day</th>\n",
       "      <th>TotalSales</th>\n",
       "    </tr>\n",
       "  </thead>\n",
       "  <tbody>\n",
       "    <tr>\n",
       "      <th>0</th>\n",
       "      <td>2013</td>\n",
       "      <td>5</td>\n",
       "      <td>Perşembe</td>\n",
       "      <td>2302285.55</td>\n",
       "    </tr>\n",
       "    <tr>\n",
       "      <th>1</th>\n",
       "      <td>2014</td>\n",
       "      <td>6</td>\n",
       "      <td>Cuma</td>\n",
       "      <td>2895567.33</td>\n",
       "    </tr>\n",
       "  </tbody>\n",
       "</table>\n",
       "</div>"
      ],
      "text/plain": [
       "   Year  Week       Day  TotalSales\n",
       "0  2013     5  Perşembe  2302285.55\n",
       "1  2014     6      Cuma  2895567.33"
      ]
     },
     "execution_count": 145,
     "metadata": {},
     "output_type": "execute_result"
    }
   ],
   "source": [
    "#sql sorgusu\n",
    "\n",
    "spark.sql(\n",
    "    f\"\"\"\n",
    "  SELECT Year,Week,Day,TotalSales\n",
    "    FROM (\n",
    "        SELECT YEAR(orderDate) AS Year,\n",
    "               orderDate_dayofweek AS Week,\n",
    "                orderDate_day_tr AS Day,\n",
    "               SUM(orderItemSubTotal) AS TotalSales,\n",
    "               ROW_NUMBER() OVER(PARTITION BY YEAR(orderDate) ORDER BY SUM(orderItemSubTotal) DESC) AS rn\n",
    "        FROM orders_6 o \n",
    "        INNER JOIN order_items od ON od.orderItemOrderId = o.orderId\n",
    "        WHERE YEAR(orderDate) IN (2013, 2014)\n",
    "        GROUP BY YEAR(orderDate), orderDate_dayofweek,orderDate_day_tr\n",
    "    ) \n",
    "    WHERE rn = 1\n",
    "\n",
    "\"\"\").toPandas()\n",
    "\n",
    "\n",
    "\n",
    "  \n",
    "\n",
    "\n",
    "\n",
    "  "
   ]
  },
  {
   "cell_type": "code",
   "execution_count": null,
   "id": "0391ffd7-fc57-4f87-b069-bf97f68bec3e",
   "metadata": {},
   "outputs": [],
   "source": []
  },
  {
   "cell_type": "code",
   "execution_count": 146,
   "id": "40d65b83-459f-4db9-b6ae-f03cdc78b48d",
   "metadata": {},
   "outputs": [],
   "source": [
    "### 7. Create the largest table possible from all these tables and write it to a table named `retail_all` in the postgresql `test1` database.\n",
    "### 7. Tüm bu tablolardan mümkün olan en büyük tabloyu oluşturun ve postgresql `test1` veritabanındaki `retail_all` adlı bir tabloya yazın.\n"
   ]
  },
  {
   "cell_type": "code",
   "execution_count": null,
   "id": "0d08c6c2-9d6e-4526-9316-49e5759cc79f",
   "metadata": {},
   "outputs": [],
   "source": []
  },
  {
   "cell_type": "code",
   "execution_count": 202,
   "id": "54c08f6e-19ed-4f86-8af5-b82744ac3d93",
   "metadata": {},
   "outputs": [
    {
     "name": "stderr",
     "output_type": "stream",
     "text": [
      "                                                                                \r"
     ]
    },
    {
     "ename": "TypeError",
     "evalue": "Casting to unit-less dtype 'datetime64' is not supported. Pass e.g. 'datetime64[ns]' instead.",
     "output_type": "error",
     "traceback": [
      "\u001b[0;31m---------------------------------------------------------------------------\u001b[0m",
      "\u001b[0;31mTypeError\u001b[0m                                 Traceback (most recent call last)",
      "Cell \u001b[0;32mIn[202], line 1\u001b[0m\n\u001b[0;32m----> 1\u001b[0m \u001b[43mspark\u001b[49m\u001b[38;5;241;43m.\u001b[39;49m\u001b[43msql\u001b[49m\u001b[43m(\u001b[49m\n\u001b[1;32m      2\u001b[0m \u001b[43m   \u001b[49m\u001b[38;5;124;43mf\u001b[39;49m\u001b[38;5;124;43m\"\"\"\u001b[39;49m\n\u001b[1;32m      3\u001b[0m \u001b[38;5;124;43m SELECT \u001b[39;49m\n\u001b[1;32m      4\u001b[0m \u001b[38;5;124;43m       od.*,\u001b[39;49m\n\u001b[1;32m      5\u001b[0m \u001b[38;5;124;43m       o.*,\u001b[39;49m\n\u001b[1;32m      6\u001b[0m \u001b[38;5;124;43m       p.*,\u001b[39;49m\n\u001b[1;32m      7\u001b[0m \u001b[38;5;124;43m       c.*,\u001b[39;49m\n\u001b[1;32m      8\u001b[0m \u001b[38;5;124;43m       cs.*,\u001b[39;49m\n\u001b[1;32m      9\u001b[0m \u001b[38;5;124;43m       d.*\u001b[39;49m\n\u001b[1;32m     10\u001b[0m \u001b[38;5;124;43m   FROM order_items od\u001b[39;49m\n\u001b[1;32m     11\u001b[0m \u001b[38;5;124;43m   FULL OUTER JOIN orders o \u001b[39;49m\n\u001b[1;32m     12\u001b[0m \u001b[38;5;124;43m   on o.orderId=od.orderItemOrderId\u001b[39;49m\n\u001b[1;32m     13\u001b[0m \u001b[38;5;124;43m   FULL OUTER JOIN products p\u001b[39;49m\n\u001b[1;32m     14\u001b[0m \u001b[38;5;124;43m   on p.productId=od.orderItemProductId\u001b[39;49m\n\u001b[1;32m     15\u001b[0m \u001b[38;5;124;43m   FULL OUTER JOIN categories c\u001b[39;49m\n\u001b[1;32m     16\u001b[0m \u001b[38;5;124;43m   on c.categoryId=p.productCategoryId\u001b[39;49m\n\u001b[1;32m     17\u001b[0m \u001b[38;5;124;43m   FULL OUTER JOIN customers  cs\u001b[39;49m\n\u001b[1;32m     18\u001b[0m \u001b[38;5;124;43m   on cs.customerId=o.orderCustomerId\u001b[39;49m\n\u001b[1;32m     19\u001b[0m \u001b[38;5;124;43m   FULL OUTER JOIN departments  d\u001b[39;49m\n\u001b[1;32m     20\u001b[0m \u001b[38;5;124;43m   on d.departmentId=c.categoryDepartmentId\u001b[39;49m\n\u001b[1;32m     21\u001b[0m \u001b[38;5;124;43m \u001b[39;49m\n\u001b[1;32m     22\u001b[0m \u001b[38;5;124;43m   \u001b[39;49m\n\u001b[1;32m     23\u001b[0m \u001b[38;5;124;43m   \u001b[39;49m\n\u001b[1;32m     24\u001b[0m \u001b[38;5;124;43m   \u001b[39;49m\n\u001b[1;32m     25\u001b[0m \n\u001b[1;32m     26\u001b[0m \u001b[38;5;124;43m\"\"\"\u001b[39;49m\u001b[43m)\u001b[49m\u001b[38;5;241;43m.\u001b[39;49m\u001b[43mtoPandas\u001b[49m\u001b[43m(\u001b[49m\u001b[43m)\u001b[49m\n",
      "File \u001b[0;32m/opt/spark/python/pyspark/sql/pandas/conversion.py:251\u001b[0m, in \u001b[0;36mPandasConversionMixin.toPandas\u001b[0;34m(self)\u001b[0m\n\u001b[1;32m    248\u001b[0m should_check_timedelta \u001b[38;5;241m=\u001b[39m is_timedelta64_dtype(t) \u001b[38;5;129;01mand\u001b[39;00m \u001b[38;5;28mlen\u001b[39m(pdf) \u001b[38;5;241m==\u001b[39m \u001b[38;5;241m0\u001b[39m\n\u001b[1;32m    250\u001b[0m \u001b[38;5;28;01mif\u001b[39;00m (t \u001b[38;5;129;01mis\u001b[39;00m \u001b[38;5;129;01mnot\u001b[39;00m \u001b[38;5;28;01mNone\u001b[39;00m \u001b[38;5;129;01mand\u001b[39;00m \u001b[38;5;129;01mnot\u001b[39;00m is_timedelta64_dtype(t)) \u001b[38;5;129;01mor\u001b[39;00m should_check_timedelta:\n\u001b[0;32m--> 251\u001b[0m     series \u001b[38;5;241m=\u001b[39m \u001b[43mseries\u001b[49m\u001b[38;5;241;43m.\u001b[39;49m\u001b[43mastype\u001b[49m\u001b[43m(\u001b[49m\u001b[43mt\u001b[49m\u001b[43m,\u001b[49m\u001b[43m \u001b[49m\u001b[43mcopy\u001b[49m\u001b[38;5;241;43m=\u001b[39;49m\u001b[38;5;28;43;01mFalse\u001b[39;49;00m\u001b[43m)\u001b[49m\n\u001b[1;32m    253\u001b[0m \u001b[38;5;28;01mwith\u001b[39;00m catch_warnings():\n\u001b[1;32m    254\u001b[0m     \u001b[38;5;28;01mfrom\u001b[39;00m \u001b[38;5;21;01mpandas\u001b[39;00m\u001b[38;5;21;01m.\u001b[39;00m\u001b[38;5;21;01merrors\u001b[39;00m \u001b[38;5;28;01mimport\u001b[39;00m PerformanceWarning\n",
      "File \u001b[0;32m~/miniconda3/envs/sparkenv/lib/python3.8/site-packages/pandas/core/generic.py:6324\u001b[0m, in \u001b[0;36mNDFrame.astype\u001b[0;34m(self, dtype, copy, errors)\u001b[0m\n\u001b[1;32m   6317\u001b[0m     results \u001b[38;5;241m=\u001b[39m [\n\u001b[1;32m   6318\u001b[0m         \u001b[38;5;28mself\u001b[39m\u001b[38;5;241m.\u001b[39miloc[:, i]\u001b[38;5;241m.\u001b[39mastype(dtype, copy\u001b[38;5;241m=\u001b[39mcopy)\n\u001b[1;32m   6319\u001b[0m         \u001b[38;5;28;01mfor\u001b[39;00m i \u001b[38;5;129;01min\u001b[39;00m \u001b[38;5;28mrange\u001b[39m(\u001b[38;5;28mlen\u001b[39m(\u001b[38;5;28mself\u001b[39m\u001b[38;5;241m.\u001b[39mcolumns))\n\u001b[1;32m   6320\u001b[0m     ]\n\u001b[1;32m   6322\u001b[0m \u001b[38;5;28;01melse\u001b[39;00m:\n\u001b[1;32m   6323\u001b[0m     \u001b[38;5;66;03m# else, only a single dtype is given\u001b[39;00m\n\u001b[0;32m-> 6324\u001b[0m     new_data \u001b[38;5;241m=\u001b[39m \u001b[38;5;28;43mself\u001b[39;49m\u001b[38;5;241;43m.\u001b[39;49m\u001b[43m_mgr\u001b[49m\u001b[38;5;241;43m.\u001b[39;49m\u001b[43mastype\u001b[49m\u001b[43m(\u001b[49m\u001b[43mdtype\u001b[49m\u001b[38;5;241;43m=\u001b[39;49m\u001b[43mdtype\u001b[49m\u001b[43m,\u001b[49m\u001b[43m \u001b[49m\u001b[43mcopy\u001b[49m\u001b[38;5;241;43m=\u001b[39;49m\u001b[43mcopy\u001b[49m\u001b[43m,\u001b[49m\u001b[43m \u001b[49m\u001b[43merrors\u001b[49m\u001b[38;5;241;43m=\u001b[39;49m\u001b[43merrors\u001b[49m\u001b[43m)\u001b[49m\n\u001b[1;32m   6325\u001b[0m     \u001b[38;5;28;01mreturn\u001b[39;00m \u001b[38;5;28mself\u001b[39m\u001b[38;5;241m.\u001b[39m_constructor(new_data)\u001b[38;5;241m.\u001b[39m__finalize__(\u001b[38;5;28mself\u001b[39m, method\u001b[38;5;241m=\u001b[39m\u001b[38;5;124m\"\u001b[39m\u001b[38;5;124mastype\u001b[39m\u001b[38;5;124m\"\u001b[39m)\n\u001b[1;32m   6327\u001b[0m \u001b[38;5;66;03m# GH 33113: handle empty frame or series\u001b[39;00m\n",
      "File \u001b[0;32m~/miniconda3/envs/sparkenv/lib/python3.8/site-packages/pandas/core/internals/managers.py:451\u001b[0m, in \u001b[0;36mBaseBlockManager.astype\u001b[0;34m(self, dtype, copy, errors)\u001b[0m\n\u001b[1;32m    448\u001b[0m \u001b[38;5;28;01melif\u001b[39;00m using_copy_on_write():\n\u001b[1;32m    449\u001b[0m     copy \u001b[38;5;241m=\u001b[39m \u001b[38;5;28;01mFalse\u001b[39;00m\n\u001b[0;32m--> 451\u001b[0m \u001b[38;5;28;01mreturn\u001b[39;00m \u001b[38;5;28;43mself\u001b[39;49m\u001b[38;5;241;43m.\u001b[39;49m\u001b[43mapply\u001b[49m\u001b[43m(\u001b[49m\n\u001b[1;32m    452\u001b[0m \u001b[43m    \u001b[49m\u001b[38;5;124;43m\"\u001b[39;49m\u001b[38;5;124;43mastype\u001b[39;49m\u001b[38;5;124;43m\"\u001b[39;49m\u001b[43m,\u001b[49m\n\u001b[1;32m    453\u001b[0m \u001b[43m    \u001b[49m\u001b[43mdtype\u001b[49m\u001b[38;5;241;43m=\u001b[39;49m\u001b[43mdtype\u001b[49m\u001b[43m,\u001b[49m\n\u001b[1;32m    454\u001b[0m \u001b[43m    \u001b[49m\u001b[43mcopy\u001b[49m\u001b[38;5;241;43m=\u001b[39;49m\u001b[43mcopy\u001b[49m\u001b[43m,\u001b[49m\n\u001b[1;32m    455\u001b[0m \u001b[43m    \u001b[49m\u001b[43merrors\u001b[49m\u001b[38;5;241;43m=\u001b[39;49m\u001b[43merrors\u001b[49m\u001b[43m,\u001b[49m\n\u001b[1;32m    456\u001b[0m \u001b[43m    \u001b[49m\u001b[43musing_cow\u001b[49m\u001b[38;5;241;43m=\u001b[39;49m\u001b[43musing_copy_on_write\u001b[49m\u001b[43m(\u001b[49m\u001b[43m)\u001b[49m\u001b[43m,\u001b[49m\n\u001b[1;32m    457\u001b[0m \u001b[43m\u001b[49m\u001b[43m)\u001b[49m\n",
      "File \u001b[0;32m~/miniconda3/envs/sparkenv/lib/python3.8/site-packages/pandas/core/internals/managers.py:352\u001b[0m, in \u001b[0;36mBaseBlockManager.apply\u001b[0;34m(self, f, align_keys, **kwargs)\u001b[0m\n\u001b[1;32m    350\u001b[0m         applied \u001b[38;5;241m=\u001b[39m b\u001b[38;5;241m.\u001b[39mapply(f, \u001b[38;5;241m*\u001b[39m\u001b[38;5;241m*\u001b[39mkwargs)\n\u001b[1;32m    351\u001b[0m     \u001b[38;5;28;01melse\u001b[39;00m:\n\u001b[0;32m--> 352\u001b[0m         applied \u001b[38;5;241m=\u001b[39m \u001b[38;5;28;43mgetattr\u001b[39;49m\u001b[43m(\u001b[49m\u001b[43mb\u001b[49m\u001b[43m,\u001b[49m\u001b[43m \u001b[49m\u001b[43mf\u001b[49m\u001b[43m)\u001b[49m\u001b[43m(\u001b[49m\u001b[38;5;241;43m*\u001b[39;49m\u001b[38;5;241;43m*\u001b[39;49m\u001b[43mkwargs\u001b[49m\u001b[43m)\u001b[49m\n\u001b[1;32m    353\u001b[0m     result_blocks \u001b[38;5;241m=\u001b[39m extend_blocks(applied, result_blocks)\n\u001b[1;32m    355\u001b[0m out \u001b[38;5;241m=\u001b[39m \u001b[38;5;28mtype\u001b[39m(\u001b[38;5;28mself\u001b[39m)\u001b[38;5;241m.\u001b[39mfrom_blocks(result_blocks, \u001b[38;5;28mself\u001b[39m\u001b[38;5;241m.\u001b[39maxes)\n",
      "File \u001b[0;32m~/miniconda3/envs/sparkenv/lib/python3.8/site-packages/pandas/core/internals/blocks.py:511\u001b[0m, in \u001b[0;36mBlock.astype\u001b[0;34m(self, dtype, copy, errors, using_cow)\u001b[0m\n\u001b[1;32m    491\u001b[0m \u001b[38;5;250m\u001b[39m\u001b[38;5;124;03m\"\"\"\u001b[39;00m\n\u001b[1;32m    492\u001b[0m \u001b[38;5;124;03mCoerce to the new dtype.\u001b[39;00m\n\u001b[1;32m    493\u001b[0m \n\u001b[0;32m   (...)\u001b[0m\n\u001b[1;32m    507\u001b[0m \u001b[38;5;124;03mBlock\u001b[39;00m\n\u001b[1;32m    508\u001b[0m \u001b[38;5;124;03m\"\"\"\u001b[39;00m\n\u001b[1;32m    509\u001b[0m values \u001b[38;5;241m=\u001b[39m \u001b[38;5;28mself\u001b[39m\u001b[38;5;241m.\u001b[39mvalues\n\u001b[0;32m--> 511\u001b[0m new_values \u001b[38;5;241m=\u001b[39m \u001b[43mastype_array_safe\u001b[49m\u001b[43m(\u001b[49m\u001b[43mvalues\u001b[49m\u001b[43m,\u001b[49m\u001b[43m \u001b[49m\u001b[43mdtype\u001b[49m\u001b[43m,\u001b[49m\u001b[43m \u001b[49m\u001b[43mcopy\u001b[49m\u001b[38;5;241;43m=\u001b[39;49m\u001b[43mcopy\u001b[49m\u001b[43m,\u001b[49m\u001b[43m \u001b[49m\u001b[43merrors\u001b[49m\u001b[38;5;241;43m=\u001b[39;49m\u001b[43merrors\u001b[49m\u001b[43m)\u001b[49m\n\u001b[1;32m    513\u001b[0m new_values \u001b[38;5;241m=\u001b[39m maybe_coerce_values(new_values)\n\u001b[1;32m    515\u001b[0m refs \u001b[38;5;241m=\u001b[39m \u001b[38;5;28;01mNone\u001b[39;00m\n",
      "File \u001b[0;32m~/miniconda3/envs/sparkenv/lib/python3.8/site-packages/pandas/core/dtypes/astype.py:242\u001b[0m, in \u001b[0;36mastype_array_safe\u001b[0;34m(values, dtype, copy, errors)\u001b[0m\n\u001b[1;32m    239\u001b[0m     dtype \u001b[38;5;241m=\u001b[39m dtype\u001b[38;5;241m.\u001b[39mnumpy_dtype\n\u001b[1;32m    241\u001b[0m \u001b[38;5;28;01mtry\u001b[39;00m:\n\u001b[0;32m--> 242\u001b[0m     new_values \u001b[38;5;241m=\u001b[39m \u001b[43mastype_array\u001b[49m\u001b[43m(\u001b[49m\u001b[43mvalues\u001b[49m\u001b[43m,\u001b[49m\u001b[43m \u001b[49m\u001b[43mdtype\u001b[49m\u001b[43m,\u001b[49m\u001b[43m \u001b[49m\u001b[43mcopy\u001b[49m\u001b[38;5;241;43m=\u001b[39;49m\u001b[43mcopy\u001b[49m\u001b[43m)\u001b[49m\n\u001b[1;32m    243\u001b[0m \u001b[38;5;28;01mexcept\u001b[39;00m (\u001b[38;5;167;01mValueError\u001b[39;00m, \u001b[38;5;167;01mTypeError\u001b[39;00m):\n\u001b[1;32m    244\u001b[0m     \u001b[38;5;66;03m# e.g. _astype_nansafe can fail on object-dtype of strings\u001b[39;00m\n\u001b[1;32m    245\u001b[0m     \u001b[38;5;66;03m#  trying to convert to float\u001b[39;00m\n\u001b[1;32m    246\u001b[0m     \u001b[38;5;28;01mif\u001b[39;00m errors \u001b[38;5;241m==\u001b[39m \u001b[38;5;124m\"\u001b[39m\u001b[38;5;124mignore\u001b[39m\u001b[38;5;124m\"\u001b[39m:\n",
      "File \u001b[0;32m~/miniconda3/envs/sparkenv/lib/python3.8/site-packages/pandas/core/dtypes/astype.py:184\u001b[0m, in \u001b[0;36mastype_array\u001b[0;34m(values, dtype, copy)\u001b[0m\n\u001b[1;32m    180\u001b[0m     \u001b[38;5;28;01mreturn\u001b[39;00m values\n\u001b[1;32m    182\u001b[0m \u001b[38;5;28;01mif\u001b[39;00m \u001b[38;5;129;01mnot\u001b[39;00m \u001b[38;5;28misinstance\u001b[39m(values, np\u001b[38;5;241m.\u001b[39mndarray):\n\u001b[1;32m    183\u001b[0m     \u001b[38;5;66;03m# i.e. ExtensionArray\u001b[39;00m\n\u001b[0;32m--> 184\u001b[0m     values \u001b[38;5;241m=\u001b[39m \u001b[43mvalues\u001b[49m\u001b[38;5;241;43m.\u001b[39;49m\u001b[43mastype\u001b[49m\u001b[43m(\u001b[49m\u001b[43mdtype\u001b[49m\u001b[43m,\u001b[49m\u001b[43m \u001b[49m\u001b[43mcopy\u001b[49m\u001b[38;5;241;43m=\u001b[39;49m\u001b[43mcopy\u001b[49m\u001b[43m)\u001b[49m\n\u001b[1;32m    186\u001b[0m \u001b[38;5;28;01melse\u001b[39;00m:\n\u001b[1;32m    187\u001b[0m     values \u001b[38;5;241m=\u001b[39m _astype_nansafe(values, dtype, copy\u001b[38;5;241m=\u001b[39mcopy)\n",
      "File \u001b[0;32m~/miniconda3/envs/sparkenv/lib/python3.8/site-packages/pandas/core/arrays/datetimes.py:694\u001b[0m, in \u001b[0;36mDatetimeArray.astype\u001b[0;34m(self, dtype, copy)\u001b[0m\n\u001b[1;32m    682\u001b[0m     \u001b[38;5;28;01mraise\u001b[39;00m \u001b[38;5;167;01mTypeError\u001b[39;00m(\n\u001b[1;32m    683\u001b[0m         \u001b[38;5;124m\"\u001b[39m\u001b[38;5;124mCannot use .astype to convert from timezone-aware dtype to \u001b[39m\u001b[38;5;124m\"\u001b[39m\n\u001b[1;32m    684\u001b[0m         \u001b[38;5;124m\"\u001b[39m\u001b[38;5;124mtimezone-naive dtype. Use obj.tz_localize(None) or \u001b[39m\u001b[38;5;124m\"\u001b[39m\n\u001b[1;32m    685\u001b[0m         \u001b[38;5;124m\"\u001b[39m\u001b[38;5;124mobj.tz_convert(\u001b[39m\u001b[38;5;124m'\u001b[39m\u001b[38;5;124mUTC\u001b[39m\u001b[38;5;124m'\u001b[39m\u001b[38;5;124m).tz_localize(None) instead.\u001b[39m\u001b[38;5;124m\"\u001b[39m\n\u001b[1;32m    686\u001b[0m     )\n\u001b[1;32m    688\u001b[0m \u001b[38;5;28;01melif\u001b[39;00m (\n\u001b[1;32m    689\u001b[0m     \u001b[38;5;28mself\u001b[39m\u001b[38;5;241m.\u001b[39mtz \u001b[38;5;129;01mis\u001b[39;00m \u001b[38;5;28;01mNone\u001b[39;00m\n\u001b[1;32m    690\u001b[0m     \u001b[38;5;129;01mand\u001b[39;00m is_datetime64_dtype(dtype)\n\u001b[1;32m    691\u001b[0m     \u001b[38;5;129;01mand\u001b[39;00m dtype \u001b[38;5;241m!=\u001b[39m \u001b[38;5;28mself\u001b[39m\u001b[38;5;241m.\u001b[39mdtype\n\u001b[1;32m    692\u001b[0m     \u001b[38;5;129;01mand\u001b[39;00m is_unitless(dtype)\n\u001b[1;32m    693\u001b[0m ):\n\u001b[0;32m--> 694\u001b[0m     \u001b[38;5;28;01mraise\u001b[39;00m \u001b[38;5;167;01mTypeError\u001b[39;00m(\n\u001b[1;32m    695\u001b[0m         \u001b[38;5;124m\"\u001b[39m\u001b[38;5;124mCasting to unit-less dtype \u001b[39m\u001b[38;5;124m'\u001b[39m\u001b[38;5;124mdatetime64\u001b[39m\u001b[38;5;124m'\u001b[39m\u001b[38;5;124m is not supported. \u001b[39m\u001b[38;5;124m\"\u001b[39m\n\u001b[1;32m    696\u001b[0m         \u001b[38;5;124m\"\u001b[39m\u001b[38;5;124mPass e.g. \u001b[39m\u001b[38;5;124m'\u001b[39m\u001b[38;5;124mdatetime64[ns]\u001b[39m\u001b[38;5;124m'\u001b[39m\u001b[38;5;124m instead.\u001b[39m\u001b[38;5;124m\"\u001b[39m\n\u001b[1;32m    697\u001b[0m     )\n\u001b[1;32m    699\u001b[0m \u001b[38;5;28;01melif\u001b[39;00m is_period_dtype(dtype):\n\u001b[1;32m    700\u001b[0m     \u001b[38;5;28;01mreturn\u001b[39;00m \u001b[38;5;28mself\u001b[39m\u001b[38;5;241m.\u001b[39mto_period(freq\u001b[38;5;241m=\u001b[39mdtype\u001b[38;5;241m.\u001b[39mfreq)\n",
      "\u001b[0;31mTypeError\u001b[0m: Casting to unit-less dtype 'datetime64' is not supported. Pass e.g. 'datetime64[ns]' instead."
     ]
    }
   ],
   "source": [
    " spark.sql(\n",
    "    f\"\"\"\n",
    "  SELECT \n",
    "        od.*,\n",
    "        o.*,\n",
    "        p.*,\n",
    "        c.*,\n",
    "        cs.*,\n",
    "        d.*\n",
    "    FROM order_items od\n",
    "    FULL OUTER JOIN orders o \n",
    "    on o.orderId=od.orderItemOrderId\n",
    "    FULL OUTER JOIN products p\n",
    "    on p.productId=od.orderItemProductId\n",
    "    FULL OUTER JOIN categories c\n",
    "    on c.categoryId=p.productCategoryId\n",
    "    FULL OUTER JOIN customers  cs\n",
    "    on cs.customerId=o.orderCustomerId\n",
    "    FULL OUTER JOIN departments  d\n",
    "    on d.departmentId=c.categoryDepartmentId\n",
    "  \n",
    "    \n",
    "    \n",
    "    \n",
    "\n",
    "\"\"\").toPandas()\n",
    "\n"
   ]
  },
  {
   "cell_type": "code",
   "execution_count": null,
   "id": "2ba0cb1d-76f1-48c0-928b-8c2dcb3ffa67",
   "metadata": {},
   "outputs": [],
   "source": [
    "#2.yöntem"
   ]
  },
  {
   "cell_type": "code",
   "execution_count": 181,
   "id": "95dde932-1e91-44d7-a82a-ea57dbc13217",
   "metadata": {},
   "outputs": [],
   "source": [
    "orders_with_items = order_items_df.join(orders_df, order_items_df.orderItemOrderId == orders_df.orderId, \"outer\")"
   ]
  },
  {
   "cell_type": "code",
   "execution_count": 182,
   "id": "a146445f-b503-4ce7-adff-1cf3545f6369",
   "metadata": {},
   "outputs": [],
   "source": [
    "retail_all_df = orders_with_items \\\n",
    "    .join(products_df, orders_with_items.orderItemProductId == products_df.productId, \"outer\") \\\n",
    "    .join(categories_df, products_df.productCategoryId == categories_df.categoryId, \"outer\") \\\n",
    "    .join(customers_df, orders_with_items.orderCustomerId == customers_df.customerId, \"outer\") \\\n",
    "    .join(departments_df, categories_df.categoryDepartmentId == departments_df.departmentId, \"outer\")"
   ]
  },
  {
   "cell_type": "code",
   "execution_count": 188,
   "id": "10a2ddee-1a40-497b-bc5f-0ac509bdaa8b",
   "metadata": {},
   "outputs": [
    {
     "name": "stderr",
     "output_type": "stream",
     "text": [
      "[Stage 601:=> (1 + 1) / 2][Stage 604:>  (0 + 1) / 1][Stage 605:>  (0 + 0) / 1]2]\r"
     ]
    },
    {
     "name": "stdout",
     "output_type": "stream",
     "text": [
      "+-------------+----------------+------------------+-----------------+-----------------+---------------------+-------+---------+---------------+-----------+---------+-----------------+--------------------+------------------+------------+--------------------+----------+--------------------+------------+----------+-------------+-------------+-------------+----------------+--------------+------------+-------------+---------------+------------+--------------+\n",
      "|orderItemName|orderItemOrderId|orderItemProductId|orderItemQuantity|orderItemSubTotal|orderItemProductPrice|orderId|orderDate|orderCustomerId|orderStatus|productId|productCategoryId|         productName|productDescription|productPrice|        productImage|categoryId|categoryDepartmentId|categoryName|customerId|customerFName|customerLName|customerEmail|customerPassword|customerStreet|customerCity|customerState|customerZipcode|departmentId|departmentName|\n",
      "+-------------+----------------+------------------+-----------------+-----------------+---------------------+-------+---------+---------------+-----------+---------+-----------------+--------------------+------------------+------------+--------------------+----------+--------------------+------------+----------+-------------+-------------+-------------+----------------+--------------+------------+-------------+---------------+------------+--------------+\n",
      "|         null|            null|              null|             null|             null|                 null|   null|     null|           null|       null|     1322|               59|Nike Men's Clevel...|              null|        30.0|http://images.acm...|      null|                null|        null|      null|         null|         null|         null|            null|          null|        null|         null|           null|        null|          null|\n",
      "|         null|            null|              null|             null|             null|                 null|   null|     null|           null|       null|     1323|               59|Nike Men's Home G...|              null|       100.0|http://images.acm...|      null|                null|        null|      null|         null|         null|         null|            null|          null|        null|         null|           null|        null|          null|\n",
      "|         null|            null|              null|             null|             null|                 null|   null|     null|           null|       null|     1324|               59|Nike Men's Clevel...|              null|        30.0|http://images.acm...|      null|                null|        null|      null|         null|         null|         null|            null|          null|        null|         null|           null|        null|          null|\n",
      "|         null|            null|              null|             null|             null|                 null|   null|     null|           null|       null|     1326|               59|Nike Youth Home G...|              null|        70.0|http://images.acm...|      null|                null|        null|      null|         null|         null|         null|            null|          null|        null|         null|           null|        null|          null|\n",
      "|         null|            null|              null|             null|             null|                 null|   null|     null|           null|       null|     1329|               59|Nike Men's Clevel...|              null|        28.0|http://images.acm...|      null|                null|        null|      null|         null|         null|         null|            null|          null|        null|         null|           null|        null|          null|\n",
      "|         null|            null|              null|             null|             null|                 null|   null|     null|           null|       null|     1330|               59|Nike Men's Home G...|              null|       100.0|http://images.acm...|      null|                null|        null|      null|         null|         null|         null|            null|          null|        null|         null|           null|        null|          null|\n",
      "|         null|            null|              null|             null|             null|                 null|   null|     null|           null|       null|     1331|               59|Nike Men's Home G...|              null|       100.0|http://images.acm...|      null|                null|        null|      null|         null|         null|         null|            null|          null|        null|         null|           null|        null|          null|\n",
      "|         null|            null|              null|             null|             null|                 null|   null|     null|           null|       null|     1332|               59|Nike Men's Home G...|              null|       100.0|http://images.acm...|      null|                null|        null|      null|         null|         null|         null|            null|          null|        null|         null|           null|        null|          null|\n",
      "|         null|            null|              null|             null|             null|                 null|   null|     null|           null|       null|     1334|               59|Nike Men's Home G...|              null|       100.0|http://images.acm...|      null|                null|        null|      null|         null|         null|         null|            null|          null|        null|         null|           null|        null|          null|\n",
      "|         null|            null|              null|             null|             null|                 null|   null|     null|           null|       null|     1335|               59|Nike Men's Andrew...|              null|       100.0|http://images.acm...|      null|                null|        null|      null|         null|         null|         null|            null|          null|        null|         null|           null|        null|          null|\n",
      "|         null|            null|              null|             null|             null|                 null|   null|     null|           null|       null|     1339|               59|Nike Men's Home G...|              null|       100.0|http://images.acm...|      null|                null|        null|      null|         null|         null|         null|            null|          null|        null|         null|           null|        null|          null|\n",
      "|         null|            null|              null|             null|             null|                 null|   null|     null|           null|       null|     1340|               59|Majestic Men's Re...|              null|       69.97|http://images.acm...|      null|                null|        null|      null|         null|         null|         null|            null|          null|        null|         null|           null|        null|          null|\n",
      "|         null|            null|              null|             null|             null|                 null|   null|     null|           null|       null|     1341|               59|Nike Women's Clev...|              null|        34.0|http://images.acm...|      null|                null|        null|      null|         null|         null|         null|            null|          null|        null|         null|           null|        null|          null|\n",
      "|         null|            null|              null|             null|             null|                 null|   null|     null|           null|       null|     1342|               59|Nike Men's St. Lo...|              null|        32.0|http://images.acm...|      null|                null|        null|      null|         null|         null|         null|            null|          null|        null|         null|           null|        null|          null|\n",
      "|         null|            null|              null|             null|             null|                 null|   null|     null|           null|       null|     1344|               59|Nike Men's Home G...|              null|       100.0|http://images.acm...|      null|                null|        null|      null|         null|         null|         null|            null|          null|        null|         null|           null|        null|          null|\n",
      "|         null|            null|              null|             null|             null|                 null|   null|     null|           null|       null|     1325|               59|Nike Johnny Footb...|              null|        30.0|http://images.acm...|      null|                null|        null|      null|         null|         null|         null|            null|          null|        null|         null|           null|        null|          null|\n",
      "|         null|            null|              null|             null|             null|                 null|   null|     null|           null|       null|     1327|               59|Nike Johnny Footb...|              null|        30.0|http://images.acm...|      null|                null|        null|      null|         null|         null|         null|            null|          null|        null|         null|           null|        null|          null|\n",
      "|         null|            null|              null|             null|             null|                 null|   null|     null|           null|       null|     1328|               59|Nike Men's Clevel...|              null|        32.0|http://images.acm...|      null|                null|        null|      null|         null|         null|         null|            null|          null|        null|         null|           null|        null|          null|\n",
      "|         null|            null|              null|             null|             null|                 null|   null|     null|           null|       null|     1333|               59|Nike Men's Home G...|              null|       100.0|http://images.acm...|      null|                null|        null|      null|         null|         null|         null|            null|          null|        null|         null|           null|        null|          null|\n",
      "|         null|            null|              null|             null|             null|                 null|   null|     null|           null|       null|     1336|               59|Nike Men's Home G...|              null|       100.0|http://images.acm...|      null|                null|        null|      null|         null|         null|         null|            null|          null|        null|         null|           null|        null|          null|\n",
      "+-------------+----------------+------------------+-----------------+-----------------+---------------------+-------+---------+---------------+-----------+---------+-----------------+--------------------+------------------+------------+--------------------+----------+--------------------+------------+----------+-------------+-------------+-------------+----------------+--------------+------------+-------------+---------------+------------+--------------+\n",
      "only showing top 20 rows\n",
      "\n"
     ]
    },
    {
     "name": "stderr",
     "output_type": "stream",
     "text": [
      "                                                                                \r"
     ]
    }
   ],
   "source": [
    "retail_all_df.show()"
   ]
  },
  {
   "cell_type": "code",
   "execution_count": 198,
   "id": "cfb07345-16e2-4bbf-815a-f3cfc76e814e",
   "metadata": {},
   "outputs": [],
   "source": [
    "#postgresql\n",
    "\n",
    "config = configparser.RawConfigParser()\n",
    "\n",
    "\n",
    "config.read('./db_conn')\n",
    "user_name = config.get('DB', 'user_name')\n",
    "password = config.get('DB', 'password')\n",
    "db_ip = config.get('DB', 'db_ip')\n",
    "\n"
   ]
  },
  {
   "cell_type": "code",
   "execution_count": 199,
   "id": "0b4206a8-e7c3-44a2-8ab8-cc2e561a86d3",
   "metadata": {},
   "outputs": [
    {
     "data": {
      "text/plain": [
       "'localhost'"
      ]
     },
     "execution_count": 199,
     "metadata": {},
     "output_type": "execute_result"
    }
   ],
   "source": [
    "db_ip"
   ]
  },
  {
   "cell_type": "code",
   "execution_count": 200,
   "id": "979f5753-3439-45bb-8ab6-54f3bcef3135",
   "metadata": {},
   "outputs": [],
   "source": [
    "jdbcUrl = f\"jdbc:postgresql://{db_ip}:5433/test1?user={user_name}&password={password}\""
   ]
  },
  {
   "cell_type": "code",
   "execution_count": 201,
   "id": "be8f4b6e-2487-43b5-b1c5-9c20f36ea290",
   "metadata": {},
   "outputs": [
    {
     "name": "stderr",
     "output_type": "stream",
     "text": [
      "                                                                                \r"
     ]
    }
   ],
   "source": [
    "retail_all_df.write.jdbc(url=jdbcUrl,\n",
    "              table=\"retail_all\", \n",
    "              mode=\"overwrite\", \n",
    "              properties={\"driver\": 'org.postgresql.Driver'})"
   ]
  },
  {
   "cell_type": "code",
   "execution_count": null,
   "id": "637b7462-1162-46d2-9532-c65786817bcb",
   "metadata": {},
   "outputs": [],
   "source": []
  }
 ],
 "metadata": {
  "kernelspec": {
   "display_name": "Python 3 (ipykernel)",
   "language": "python",
   "name": "python3"
  },
  "language_info": {
   "codemirror_mode": {
    "name": "ipython",
    "version": 3
   },
   "file_extension": ".py",
   "mimetype": "text/x-python",
   "name": "python",
   "nbconvert_exporter": "python",
   "pygments_lexer": "ipython3",
   "version": "3.8.19"
  }
 },
 "nbformat": 4,
 "nbformat_minor": 5
}
